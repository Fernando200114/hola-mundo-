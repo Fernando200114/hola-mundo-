{
  "nbformat": 4,
  "nbformat_minor": 0,
  "metadata": {
    "colab": {
      "provenance": [],
      "include_colab_link": true
    },
    "kernelspec": {
      "name": "python3",
      "display_name": "Python 3"
    },
    "language_info": {
      "name": "python"
    }
  },
  "cells": [
    {
      "cell_type": "markdown",
      "metadata": {
        "id": "view-in-github",
        "colab_type": "text"
      },
      "source": [
        "<a href=\"https://colab.research.google.com/github/Fernando200114/hola-mundo-/blob/main/A_T2_LLULLUNA_FERNANDO.ipynb\" target=\"_parent\"><img src=\"https://colab.research.google.com/assets/colab-badge.svg\" alt=\"Open In Colab\"/></a>"
      ]
    },
    {
      "cell_type": "code",
      "execution_count": null,
      "metadata": {
        "colab": {
          "base_uri": "https://localhost:8080/"
        },
        "id": "hMc1CKglpgYa",
        "outputId": "2e2fb807-534a-44d0-dcd1-8dae588a1e96"
      },
      "outputs": [
        {
          "output_type": "stream",
          "name": "stdout",
          "text": [
            "hola mundo\n"
          ]
        }
      ],
      "source": [
        "#Escribe un programa que imprima \"Hola, Mundo!\" en la pantalla.\n",
        "print(\"hola mundo\")"
      ]
    },
    {
      "cell_type": "code",
      "source": [
        "#Escribe un programa que pida al usuario dos números y los sume.\n",
        "num1 = int(input(\"ingrese un numero: \"))\n",
        "num2 = int(input(\"ingrese otro numero \"))                    #Solicitamos  al usuario que nos ingrese dos numeros\n",
        "                                                             #luego creamos una variable que realize una suma para num1 y num2 y procedemos a imprimir num1 + num2\n",
        "val = num1 + num2\n",
        "print(num1 + num2)"
      ],
      "metadata": {
        "colab": {
          "base_uri": "https://localhost:8080/"
        },
        "id": "XEr7aUcOrDJV",
        "outputId": "b3ab566d-849b-46b2-af21-0f85ac29ed0e"
      },
      "execution_count": null,
      "outputs": [
        {
          "output_type": "stream",
          "name": "stdout",
          "text": [
            "ingrese un numero: 12\n",
            "ingrese otro numero 1\n",
            "13\n"
          ]
        }
      ]
    },
    {
      "cell_type": "code",
      "source": [
        "#Escribe un programa que determine si un número introducido por el usuario es par o impar.\n",
        "num1 = int(input(\"ingrese un numero\"))\n",
        "if num1 %2 ==0:                                               #Solicitamos  al usuario el ingreso de un numero despues se  pone la condicion de que si el numero ingresado al hacer modulo 2 tiene residuo 0 sea par\n",
        "                                                              # si no se  cumple colocaremos un caso contrario diciendo que el numero es inpar\n",
        "  print(\"el numero es par\")\n",
        "else:\n",
        "  print(\"el numero es inpar\")"
      ],
      "metadata": {
        "colab": {
          "base_uri": "https://localhost:8080/"
        },
        "id": "5bssI_WHs4w-",
        "outputId": "4917b587-5b14-4c44-c9dd-f79edb96a756"
      },
      "execution_count": null,
      "outputs": [
        {
          "output_type": "stream",
          "name": "stdout",
          "text": [
            "ingrese un numero12\n",
            "ingrese otro numero3\n",
            "el numero es par\n"
          ]
        }
      ]
    },
    {
      "cell_type": "code",
      "source": [
        "# Escribe un programa que realice operaciones básicas (suma, resta, multiplicación y división) entre dos números introducidos por el usuario\n",
        "num1 = int(input(\"ingrese un numero\"))\n",
        "num2 = int(input(\"ingrese otro numero\"))\n",
        "print(\"\"\" INgrese la opcion que desea ingresar                #Solicitamos al usuario el ingreso de dos numeros  y de la misma manera le pedimos que nos deje ingresar una opcion\n",
        "                                                              #decimos que si opcion es igual a la opcion1 (sumar) nos deje imprimir la suma   y utilizamos elif para tener mas de un componente y de igual manera\n",
        "                                                              #para el resto de las operaciones\n",
        "1) Sumar\n",
        "2) Restar\n",
        "3) MUltiplicar\n",
        "4) Dividir\n",
        "5) Salir\n",
        "\"\"\")\n",
        "opcion = int(input(\"ingrese una opcion\"))\n",
        "\n",
        "if opcion ==1:\n",
        " print(num1 + num2)\n",
        "elif opcion ==2:\n",
        " print(num1 - num2)\n",
        "elif opcion ==3:\n",
        " print(num1 * num2)\n",
        "elif opcion ==4:\n",
        " print(num1 / num2)\n",
        "elif opcion ==5:\n",
        " print(\"Saliendo ...\")\n"
      ],
      "metadata": {
        "colab": {
          "base_uri": "https://localhost:8080/"
        },
        "id": "C62vkfxUtseO",
        "outputId": "e19576ca-3d78-458f-d70d-3b9e4549d35e"
      },
      "execution_count": null,
      "outputs": [
        {
          "output_type": "stream",
          "name": "stdout",
          "text": [
            "ingrese un numero2\n",
            "ingrese otro numero3\n",
            " INgrese la opcion que desea ingresar                #  Pedimos al usuario el ingreso de dos numeros  y de la misma manera le pedimos que nos deje ingresar una opcion   \n",
            "                                                              #decimos que si opcion es igual a la opcion1 (sumar) nos deje imprimir la suma   y utilizamos elif para tener mas de un componente y de igual manera \n",
            "                                                              #para el resto de las operaciones \n",
            "1) Sumar\n",
            "2) Restar\n",
            "3) MUltiplicar\n",
            "4) Dividir                                            \n",
            "5) Salir\n",
            "\n",
            "ingrese una opcion3\n",
            "6\n"
          ]
        }
      ]
    },
    {
      "cell_type": "code",
      "source": [
        "#Escribe un programa que pida tres números al usuario y determine cuál es el mayor.\n",
        "num1 = int(input(\"ingrese un valor\"))                    #Pedimos al usuario que nos deje ingresar tres valores\n",
        "num2 = int(input(\"ingrese otro numero\"))\n",
        "num3 = int(input(\"ingrese un tercer valor\"))\n",
        "print(\"El numero mayor es\")\n",
        "respuesta = max( num1 , num2 , num3)                     #creamos una variable nueva utilizando max  que pide el numero maximo de los tres numeros ingresados\n",
        "print(respuesta)                                         #imprimimos la variable respuesta\n"
      ],
      "metadata": {
        "colab": {
          "base_uri": "https://localhost:8080/"
        },
        "id": "8HKC30k2u8L3",
        "outputId": "a457583b-4995-4ed8-ae33-c780bfdc8ac6"
      },
      "execution_count": null,
      "outputs": [
        {
          "output_type": "stream",
          "name": "stdout",
          "text": [
            "ingrese un valor12\n",
            "ingrese otro numero32\n",
            "ingrese un tercer valor123\n",
            "El numero mayor es\n",
            "123\n"
          ]
        }
      ]
    },
    {
      "cell_type": "code",
      "source": [
        "#Escribe un programa que calcule el área de un círculo a partir de su radio, ingresado por el usuario.\n",
        "area = int(input(\"ingrese el valor\"))                     #Pedimos al usuario el area del circulo\n",
        "area = 3.14 * (area**2)                                   # utilizamos el are adel circulo que es el valor de pi por el area al cuadrado y imprimimos area\n",
        "print(area)"
      ],
      "metadata": {
        "colab": {
          "base_uri": "https://localhost:8080/"
        },
        "id": "hoz3p56awhBF",
        "outputId": "85ce1a2c-1e1d-4df5-b698-7f6da16a0b23"
      },
      "execution_count": null,
      "outputs": [
        {
          "output_type": "stream",
          "name": "stdout",
          "text": [
            "ingrese el valor12\n",
            "452.16\n"
          ]
        }
      ]
    },
    {
      "cell_type": "code",
      "source": [
        "#Conversión de grados Celsius a Fahrenheit: Escribe un programa que convierta una temperatura dada en grados Celsius a grados Fahrenheit.\n",
        "celsius= float(input(\"Ingrese los grados celsius\"))        #Pedimos al usuario el ingreso de grados en celsius\n",
        "fahrenheit = (celsius * 9/5) + 32                          # Colocamos una variable fahrenhet en el que se va a colocar la formula de fahrenhet  + 32  cumpliendo la formula\n",
        "print(f\"{celsius} sus grados son  celsius, {fahrenheit} sus grados son fahreneit\") # Iprimimos cada una de las variables escritas en llaves mas el texto que queremos que acompañe el resultado\n"
      ],
      "metadata": {
        "id": "vjyHQVuMxMO1",
        "outputId": "7c0ae782-ac8b-4685-8f6c-b1328d282229",
        "colab": {
          "base_uri": "https://localhost:8080/"
        }
      },
      "execution_count": null,
      "outputs": [
        {
          "output_type": "stream",
          "name": "stdout",
          "text": [
            "Ingrese los grados celsius12\n",
            "12.0 sus grados son  celsius, 53.6 sus grados son fahreneit\n"
          ]
        }
      ]
    },
    {
      "cell_type": "code",
      "source": [
        "# Escribe un programa que cuente hacia atrás desde 10 hasta 0\n",
        "for i in range(10 , -1,-1):                                  # Creamos un bucle con un rango con el numero que nos solicita (10 , 0) en el cual -1 va a ir restando al numero 10 del rango\n",
        "   print(i)                                                  #y el otro -1 nos va a decir el numero limite que vamos a llegar\n"
      ],
      "metadata": {
        "id": "tvpqCfXreI73",
        "outputId": "a1396af9-fed2-4ca0-c6f9-648798d039a5",
        "colab": {
          "base_uri": "https://localhost:8080/"
        }
      },
      "execution_count": null,
      "outputs": [
        {
          "output_type": "stream",
          "name": "stdout",
          "text": [
            "10\n",
            "9\n",
            "8\n",
            "7\n",
            "6\n",
            "5\n",
            "4\n",
            "3\n",
            "2\n",
            "1\n",
            "0\n"
          ]
        }
      ]
    },
    {
      "cell_type": "code",
      "source": [
        "#Tabla de multiplicar: Escribe un programa que muestre la tabla de multiplicar de un número introducido por el usuario.\n",
        "#Tabla de multiplicar: Escribe un programa que muestre la tabla de multiplicar de un número introducido por el usuario.\n",
        "numero = int(input(\"ingrese un numero\"))                     # Solicitamos el ingreso de un numero\n",
        "for val in range(1,11):                                      #Creamos un rango  del numero que queremos iniciar hasta el ultimo nuero que queremos\n",
        "    resultado = numero * val                                 #creamos una variable donde  vamos a imprimir el numero ingresado por el val del rango\n",
        "    print(f\"{numero} x {val} = {resultado}\")                 #Imprimimos en formato el numero x el valor y el resultado\n"
      ],
      "metadata": {
        "id": "J0Wgj6VRr6cl",
        "outputId": "8639b33c-ad98-4343-f855-fba8f874aea9",
        "colab": {
          "base_uri": "https://localhost:8080/"
        }
      },
      "execution_count": null,
      "outputs": [
        {
          "output_type": "stream",
          "name": "stdout",
          "text": [
            "ingrese un numero5\n",
            "5 x 1 = 5\n",
            "5 x 2 = 10\n",
            "5 x 3 = 15\n",
            "5 x 4 = 20\n",
            "5 x 5 = 25\n",
            "5 x 6 = 30\n",
            "5 x 7 = 35\n",
            "5 x 8 = 40\n",
            "5 x 9 = 45\n",
            "5 x 10 = 50\n"
          ]
        }
      ]
    },
    {
      "cell_type": "code",
      "source": [
        " #Escribe un programa que determine si un número introducido por el usuario es primo.\n",
        " numero = int(input(\"ingrese el valor\"))                      #Solicitamos el ingreso de un numero\n",
        "if numero <= 1:                                               #Decimos que si numero es menor igual a 1 no es primo  no se cumple\n",
        "    print(\"el numero no  es primo\")                           #Caso contrario primo va hacer igual a verdad y creamos un rango\n",
        "else:\n",
        "    primo = True\n",
        "    for val in range (2,int(numero**0.5) + 1):                #Se crea un rango desde 2 hasta la raiz cuadradada del numero ingresado + 1\n",
        "      if numero %val == 0:                                    #Se  calcula hasta valores menores que la raiz cuadrada\n",
        "            primo = False\n",
        "            break                                             # Colocamos un break para salir del bucle y decimos que si el numero es primo sera verdadero caso contrario ser falso\n",
        "    if primo:\n",
        "        print(\"es verdadero\")\n",
        "    else:\n",
        "        print(\"es falso\")"
      ],
      "metadata": {
        "id": "_zQ4-B-vTJ-4",
        "outputId": "5e1533e3-035e-4b78-c883-267c007c1bac",
        "colab": {
          "base_uri": "https://localhost:8080/"
        }
      },
      "execution_count": null,
      "outputs": [
        {
          "output_type": "stream",
          "name": "stdout",
          "text": [
            "ingrese el valor2\n",
            "es verdadero\n"
          ]
        }
      ]
    },
    {
      "cell_type": "code",
      "source": [
        "#Escribe un programa que sume todos los números naturales hasta un número límite introducido por el usuario.\n",
        "ingreso = int(input(\"ingrese el numero\"))                      #Solicitamos el ingreso de un numero\n",
        "suma = 0                                                       # Creamos una variable = 0\n",
        "for val in range(1,ingreso + 1):                               # Creamos un buncle con rango de 1 al numero que vamos a ingresar +1\n",
        "    suma = val + suma                                          # Sumamos el valor del rango mas la variable suma\n",
        "print(suma)"
      ],
      "metadata": {
        "id": "nFBUIpEcYQB9",
        "colab": {
          "base_uri": "https://localhost:8080/"
        },
        "outputId": "1e5f0d92-995d-4240-d0e5-8a5d9d2bcde5"
      },
      "execution_count": null,
      "outputs": [
        {
          "output_type": "stream",
          "name": "stdout",
          "text": [
            "ingrese el numero3\n",
            "6\n"
          ]
        }
      ]
    },
    {
      "cell_type": "code",
      "source": [
        "# Escribe un programa que invierta una cadena introducida por el usuario.\n",
        "cadena = input(\"ingrese el texto\")                             #Solicitamos el ingreso de un texto\n",
        "resultado = ''.join(reversed(cadena))                          #Creamos una variable que va hacer igual a \"\"join con la funcion reversed para que nuestro texto nos de alrevez mas la variable de ingresar el texto\n",
        "print(resultado)                                               # Si no colocamos join nos va a ingresar un error"
      ],
      "metadata": {
        "colab": {
          "base_uri": "https://localhost:8080/"
        },
        "id": "j29BFcuqObfw",
        "outputId": "111f449d-9399-4cd4-fb2c-3f294f964df2"
      },
      "execution_count": null,
      "outputs": [
        {
          "output_type": "stream",
          "name": "stdout",
          "text": [
            "ingrese el textohola como estas\n",
            "satse omoc aloh\n"
          ]
        }
      ]
    },
    {
      "cell_type": "code",
      "source": [
        "#Escribe un programa que cuente el número de vocales en una cadena introducida por el usuario.\n",
        "usuario = input(\"ingrese una cadena de texto\")                 #Solicitamos el ingreso de un texto\n",
        "contador = 0                                                   #Creamos una variable igual a cero\n",
        "\n",
        "for val in usuario:                                            #Creamos un bucle para recorrer el texto\n",
        "    if val in \"aeiou\":                                         #Creamos una funcion if donde vamos a decir que si en val se encuentra las vocales\n",
        "        contador = contador+1                                  #Creamos otra funcion en el que vamos a sumar el valor del contador\n",
        "print(f\"{usuario} tiene {contador} vocales\")                   # Imprimimos en formato de el usuario y el contador"
      ],
      "metadata": {
        "colab": {
          "base_uri": "https://localhost:8080/"
        },
        "id": "NzVfSHVZVADb",
        "outputId": "7a488642-339a-46a3-b17a-6b4db8f68149"
      },
      "execution_count": null,
      "outputs": [
        {
          "output_type": "stream",
          "name": "stdout",
          "text": [
            "ingrese una cadena de texto  Hola como estas \n",
            "  Hola como estas  tiene 6 vocales\n"
          ]
        }
      ]
    },
    {
      "cell_type": "code",
      "source": [
        " #Escribe un programa que determine si una cadena introducida por el usuario es un palíndromo.\n",
        "ingreso = input(\"ingrese un texto\")                             # Solicitamos al usuario el ingreso de un texto\n",
        "ingr=''.join(reversed(ingreso))                                 #Creamos una varibale que sea igual a \"\".join con la funcion reversed del texto a ingresar\n",
        "if ingreso == ingr:                                             #Colocamos la funcion if donde el ingreso va a comparar ingeso con ingr\n",
        "  print(\"es un polidromo\")                                      #En el cual si se cumple sera un polidromo caso contrario no lo sera\n",
        "else:\n",
        "  print(\"no es un polidromo\")\n",
        "\n",
        "\n",
        "#ingreso = input(\"ingrese un texto\")\n",
        "#if ingreso == ingreso[::-1]:\n",
        " # print(\"es un polidromo\")\n",
        "#else:\n",
        "  #print(\"no es un polidromo\")"
      ],
      "metadata": {
        "colab": {
          "base_uri": "https://localhost:8080/"
        },
        "id": "Uus-AG-lXwJO",
        "outputId": "0d5c8b4b-bf42-44e4-9157-71741edcbb81"
      },
      "execution_count": null,
      "outputs": [
        {
          "output_type": "stream",
          "name": "stdout",
          "text": [
            "ingrese un textoreconocer\n",
            "es un polidromo\n"
          ]
        }
      ]
    },
    {
      "cell_type": "code",
      "source": [
        "#Escribe un programa que calcule el factorial de un número introducido por el usuario.\n",
        "numero = int(input(\"ingrese un numero\"))                        #Solicitamos el ingreso del usuario\n",
        "factorial = 1                                                   #Creamos una variable iguala 1\n",
        "for val in range(1,numero +1):                                  #Creamos un rango de 1 hasta el numero ingresado sumandole 1\n",
        "    factorial = val * factorial                                 #Multiplicamos el valor del rango por el valor del fatorial\n",
        "    print(factorial)\n"
      ],
      "metadata": {
        "colab": {
          "base_uri": "https://localhost:8080/"
        },
        "id": "Rh6XySaRk8KE",
        "outputId": "c15d30aa-f1c5-41f5-f410-cbb9d5f33f08"
      },
      "execution_count": null,
      "outputs": [
        {
          "output_type": "stream",
          "name": "stdout",
          "text": [
            "ingrese un numero2\n",
            "1\n",
            "2\n"
          ]
        }
      ]
    },
    {
      "cell_type": "code",
      "source": [
        " #Escribe un programa que genere y muestre 5 números aleatorios entre 1 y 100.\n",
        " import random                                                  #Importamos la libreria random en el q random nos va a colocr numeros aleatorios\n",
        "print(\"5 números aleatorios entre 1 y 100:\")\n",
        "for _ in range(5):                                              #creamos un rango donde solicitamos el ingreso solo de 5 valores\n",
        "    numero = random.randint(1, 100)                             #creamos una variable donde solicitamos a random y  radindit  para q nos de en numeros aleatorios enteros\n",
        "    print(numero)"
      ],
      "metadata": {
        "colab": {
          "base_uri": "https://localhost:8080/"
        },
        "id": "bEBVTCkCmEna",
        "outputId": "0fc94be5-b8cb-45cf-f1bf-c2902fedba72"
      },
      "execution_count": null,
      "outputs": [
        {
          "output_type": "stream",
          "name": "stdout",
          "text": [
            "5 números aleatorios entre 1 y 100:\n",
            "71\n",
            "19\n",
            "48\n",
            "80\n",
            "1\n"
          ]
        }
      ]
    },
    {
      "cell_type": "code",
      "source": [
        "#Escribe un programa que calcule el índice de masa corporal (IMC) a partir del peso y la altura introducidos por el usuario.\n",
        "peso = float(input(\"Ingrese su peso en kilogramos: \"))            #Solicitamos el ingreso de dos numeros de tipo flotane\n",
        "altura = float(input(\"Ingrese su altura en metros: \"))\n",
        "resultado  = peso / (altura ** 2)                                 # Colocamos una variable con la formula del peso sobre la aultara al cuadrado\n",
        "print(\"Su índice es:\", resultado)"
      ],
      "metadata": {
        "colab": {
          "base_uri": "https://localhost:8080/"
        },
        "id": "0vdhej1vmqTI",
        "outputId": "a66e8ef0-c980-44e4-eb43-d2d0c1bd7227"
      },
      "execution_count": null,
      "outputs": [
        {
          "output_type": "stream",
          "name": "stdout",
          "text": [
            "Ingrese su peso en kilogramos: 12\n",
            "Ingrese su altura en metros: 2\n",
            "Su índice es: 3.0\n"
          ]
        }
      ]
    }
  ]
}