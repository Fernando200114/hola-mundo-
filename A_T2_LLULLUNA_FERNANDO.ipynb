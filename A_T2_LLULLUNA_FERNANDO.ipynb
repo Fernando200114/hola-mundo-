{
  "nbformat": 4,
  "nbformat_minor": 0,
  "metadata": {
    "colab": {
      "provenance": [],
      "authorship_tag": "ABX9TyNCErlwRMPYdsVjGTj0GnHW",
      "include_colab_link": true
    },
    "kernelspec": {
      "name": "python3",
      "display_name": "Python 3"
    },
    "language_info": {
      "name": "python"
    }
  },
  "cells": [
    {
      "cell_type": "markdown",
      "metadata": {
        "id": "view-in-github",
        "colab_type": "text"
      },
      "source": [
        "<a href=\"https://colab.research.google.com/github/Fernando200114/hola-mundo-/blob/main/A_T2_LLULLUNA_FERNANDO.ipynb\" target=\"_parent\"><img src=\"https://colab.research.google.com/assets/colab-badge.svg\" alt=\"Open In Colab\"/></a>"
      ]
    },
    {
      "cell_type": "code",
      "execution_count": 1,
      "metadata": {
        "colab": {
          "base_uri": "https://localhost:8080/"
        },
        "id": "hMc1CKglpgYa",
        "outputId": "2e2fb807-534a-44d0-dcd1-8dae588a1e96"
      },
      "outputs": [
        {
          "output_type": "stream",
          "name": "stdout",
          "text": [
            "hola mundo\n"
          ]
        }
      ],
      "source": [
        "print(\"hola mundo\")"
      ]
    },
    {
      "cell_type": "code",
      "source": [
        "num1 = int(input(\"ingrese un numero: \"))\n",
        "num2 = int(input(\"ingrese otro numero \"))\n",
        "val = num1 + num2\n",
        "print(num1 + num2)"
      ],
      "metadata": {
        "colab": {
          "base_uri": "https://localhost:8080/"
        },
        "id": "XEr7aUcOrDJV",
        "outputId": "b3ab566d-849b-46b2-af21-0f85ac29ed0e"
      },
      "execution_count": 4,
      "outputs": [
        {
          "output_type": "stream",
          "name": "stdout",
          "text": [
            "ingrese un numero: 12\n",
            "ingrese otro numero 1\n",
            "13\n"
          ]
        }
      ]
    },
    {
      "cell_type": "code",
      "source": [
        "num1 = int(input(\"ingrese un numero\"))\n",
        "num2 = int(input(\"ingrese otro numero\"))\n",
        "if num1 %2 ==0:\n",
        "  print(\"el numero es par\")\n",
        "else:\n",
        "  print(\"el numero es inpar\")"
      ],
      "metadata": {
        "colab": {
          "base_uri": "https://localhost:8080/"
        },
        "id": "5bssI_WHs4w-",
        "outputId": "4917b587-5b14-4c44-c9dd-f79edb96a756"
      },
      "execution_count": 12,
      "outputs": [
        {
          "output_type": "stream",
          "name": "stdout",
          "text": [
            "ingrese un numero12\n",
            "ingrese otro numero3\n",
            "el numero es par\n"
          ]
        }
      ]
    },
    {
      "cell_type": "code",
      "source": [
        "num1 = int(input(\"ingrese un numero\"))\n",
        "num2 = int(input(\"ingrese otro numero\"))\n",
        "print(\"esto es una suma\")\n",
        "val = num1 + num2\n",
        "print(val)\n",
        "print(\"esto es una resta\")\n",
        "val1 = num1 - num2\n",
        "print(val1)\n",
        "print(\"esto es una multiplicacion\")\n",
        "val2 = num1 * num2\n",
        "print(val2)\n",
        "print(\"esto es una division\")\n",
        "val3 =  num1 / num2\n",
        "print(val3)"
      ],
      "metadata": {
        "colab": {
          "base_uri": "https://localhost:8080/"
        },
        "id": "C62vkfxUtseO",
        "outputId": "e8f6054e-5ffd-4fb1-9b42-cbe2a3ecdeca"
      },
      "execution_count": 17,
      "outputs": [
        {
          "output_type": "stream",
          "name": "stdout",
          "text": [
            "ingrese un numero123\n",
            "ingrese otro numero213\n",
            "esto es una suma\n",
            "336\n",
            "esto es una resta\n",
            "-90\n",
            "esto es una multiplicacion\n",
            "26199\n",
            "esto es una division\n",
            "0.5774647887323944\n"
          ]
        }
      ]
    },
    {
      "cell_type": "code",
      "source": [
        "num1 = int(input(\"ingrese un valor\"))\n",
        "num2 = int(input(\"ingrese otro numero\"))\n",
        "num3 = int(input(\"ingrese un tercer valor\"))\n",
        "if num1 >= num2  and num2 >= num3:\n",
        "  print(\"num1 es mayor\")\n"
      ],
      "metadata": {
        "colab": {
          "base_uri": "https://localhost:8080/"
        },
        "id": "8HKC30k2u8L3",
        "outputId": "a0a09b33-ddbb-48d2-e811-bf6ca89df48a"
      },
      "execution_count": 21,
      "outputs": [
        {
          "output_type": "stream",
          "name": "stdout",
          "text": [
            "ingrese un valor12\n",
            "ingrese otro numero2\n",
            "ingrese un tercer valor1\n",
            "num1 es mayor\n"
          ]
        }
      ]
    },
    {
      "cell_type": "code",
      "source": [
        "area = int(input(\"ingrese el valor\"))\n",
        "area = 3.14 * (area**2)\n",
        "print(area)"
      ],
      "metadata": {
        "colab": {
          "base_uri": "https://localhost:8080/"
        },
        "id": "hoz3p56awhBF",
        "outputId": "85ce1a2c-1e1d-4df5-b698-7f6da16a0b23"
      },
      "execution_count": 23,
      "outputs": [
        {
          "output_type": "stream",
          "name": "stdout",
          "text": [
            "ingrese el valor12\n",
            "452.16\n"
          ]
        }
      ]
    },
    {
      "cell_type": "code",
      "source": [],
      "metadata": {
        "id": "vjyHQVuMxMO1"
      },
      "execution_count": null,
      "outputs": []
    }
  ]
}