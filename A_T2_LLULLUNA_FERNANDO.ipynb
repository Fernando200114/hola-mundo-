{
  "nbformat": 4,
  "nbformat_minor": 0,
  "metadata": {
    "colab": {
      "provenance": [],
      "include_colab_link": true
    },
    "kernelspec": {
      "name": "python3",
      "display_name": "Python 3"
    },
    "language_info": {
      "name": "python"
    }
  },
  "cells": [
    {
      "cell_type": "markdown",
      "metadata": {
        "id": "view-in-github",
        "colab_type": "text"
      },
      "source": [
        "<a href=\"https://colab.research.google.com/github/Fernando200114/hola-mundo-/blob/main/A_T2_LLULLUNA_FERNANDO.ipynb\" target=\"_parent\"><img src=\"https://colab.research.google.com/assets/colab-badge.svg\" alt=\"Open In Colab\"/></a>"
      ]
    },
    {
      "cell_type": "code",
      "execution_count": null,
      "metadata": {
        "colab": {
          "base_uri": "https://localhost:8080/"
        },
        "id": "hMc1CKglpgYa",
        "outputId": "2e2fb807-534a-44d0-dcd1-8dae588a1e96"
      },
      "outputs": [
        {
          "output_type": "stream",
          "name": "stdout",
          "text": [
            "hola mundo\n"
          ]
        }
      ],
      "source": [
        "print(\"hola mundo\")"
      ]
    },
    {
      "cell_type": "code",
      "source": [
        "num1 = int(input(\"ingrese un numero: \"))\n",
        "num2 = int(input(\"ingrese otro numero \"))\n",
        "val = num1 + num2\n",
        "print(num1 + num2)"
      ],
      "metadata": {
        "colab": {
          "base_uri": "https://localhost:8080/"
        },
        "id": "XEr7aUcOrDJV",
        "outputId": "b3ab566d-849b-46b2-af21-0f85ac29ed0e"
      },
      "execution_count": null,
      "outputs": [
        {
          "output_type": "stream",
          "name": "stdout",
          "text": [
            "ingrese un numero: 12\n",
            "ingrese otro numero 1\n",
            "13\n"
          ]
        }
      ]
    },
    {
      "cell_type": "code",
      "source": [
        "num1 = int(input(\"ingrese un numero\"))\n",
        "num2 = int(input(\"ingrese otro numero\"))\n",
        "if num1 %2 ==0:\n",
        "  print(\"el numero es par\")\n",
        "else:\n",
        "  print(\"el numero es inpar\")"
      ],
      "metadata": {
        "colab": {
          "base_uri": "https://localhost:8080/"
        },
        "id": "5bssI_WHs4w-",
        "outputId": "4917b587-5b14-4c44-c9dd-f79edb96a756"
      },
      "execution_count": null,
      "outputs": [
        {
          "output_type": "stream",
          "name": "stdout",
          "text": [
            "ingrese un numero12\n",
            "ingrese otro numero3\n",
            "el numero es par\n"
          ]
        }
      ]
    },
    {
      "cell_type": "code",
      "source": [
        "num1 = int(input(\"ingrese un numero\"))\n",
        "num2 = int(input(\"ingrese otro numero\"))\n",
        "print(\"\"\" INgrese la opcion que desea ingresar\n",
        "1) Sumar\n",
        "2) Restar\n",
        "3) MUltiplicar\n",
        "4) Dividir\n",
        "5) Salir\n",
        "\"\"\")\n",
        "opcion = int(input(\"ingrese una opcion\"))\n",
        "\n",
        "if opcion ==1:\n",
        " print(num1 + num2)\n",
        "elif opcion ==2:\n",
        " print(num1 - num2)\n",
        "elif opcion ==3:\n",
        " print(num1 * num2)\n",
        "elif opcion ==4:\n",
        " print(num1 / num2)\n",
        "elif opcion ==5:\n",
        " print(\"Saliendo ...\")\n"
      ],
      "metadata": {
        "colab": {
          "base_uri": "https://localhost:8080/"
        },
        "id": "C62vkfxUtseO",
        "outputId": "741cbd92-8ede-4d94-9fad-51fc25eca832"
      },
      "execution_count": 5,
      "outputs": [
        {
          "output_type": "stream",
          "name": "stdout",
          "text": [
            "ingrese un numero12\n",
            "ingrese otro numero21\n",
            " INgrese la opcion que desea ingresar\n",
            "1) Sumar\n",
            "2) Restar\n",
            "3) MUltiplicar\n",
            "4) Dividir\n",
            "5) Salir \n",
            "\n",
            "ingrese una opcion4\n",
            "0.5714285714285714\n"
          ]
        }
      ]
    },
    {
      "cell_type": "code",
      "source": [
        "num1 = int(input(\"ingrese un valor\"))\n",
        "num2 = int(input(\"ingrese otro numero\"))\n",
        "num3 = int(input(\"ingrese un tercer valor\"))\n",
        "print(\"El numero mayor es\")\n",
        "respuesta = max( num1 , num2 , num3)\n",
        "print(respuesta)\n"
      ],
      "metadata": {
        "colab": {
          "base_uri": "https://localhost:8080/"
        },
        "id": "8HKC30k2u8L3",
        "outputId": "a457583b-4995-4ed8-ae33-c780bfdc8ac6"
      },
      "execution_count": 4,
      "outputs": [
        {
          "output_type": "stream",
          "name": "stdout",
          "text": [
            "ingrese un valor12\n",
            "ingrese otro numero32\n",
            "ingrese un tercer valor123\n",
            "El numero mayor es\n",
            "123\n"
          ]
        }
      ]
    },
    {
      "cell_type": "code",
      "source": [
        "area = int(input(\"ingrese el valor\"))\n",
        "area = 3.14 * (area**2)\n",
        "print(area)"
      ],
      "metadata": {
        "colab": {
          "base_uri": "https://localhost:8080/"
        },
        "id": "hoz3p56awhBF",
        "outputId": "85ce1a2c-1e1d-4df5-b698-7f6da16a0b23"
      },
      "execution_count": null,
      "outputs": [
        {
          "output_type": "stream",
          "name": "stdout",
          "text": [
            "ingrese el valor12\n",
            "452.16\n"
          ]
        }
      ]
    },
    {
      "cell_type": "code",
      "source": [
        "#Conversión de grados Celsius a Fahrenheit: Escribe un programa que convierta una temperatura dada en grados Celsius a grados Fahrenheit.\n",
        "celsius= float(input(\"Ingrese los grados celsius\"))\n",
        "fahrenheit = (celsius * 9/5) + 32\n",
        "print(f\"{celsius} sus grados son  celsius, {fahrenheit} sus grados son fahreneit\")\n"
      ],
      "metadata": {
        "id": "vjyHQVuMxMO1",
        "outputId": "7c0ae782-ac8b-4685-8f6c-b1328d282229",
        "colab": {
          "base_uri": "https://localhost:8080/"
        }
      },
      "execution_count": 9,
      "outputs": [
        {
          "output_type": "stream",
          "name": "stdout",
          "text": [
            "Ingrese los grados celsius12\n",
            "12.0 sus grados son  celsius, 53.6 sus grados son fahreneit\n"
          ]
        }
      ]
    },
    {
      "cell_type": "code",
      "source": [
        "# Escribe un programa que cuente hacia atrás desde 10 hasta 0\n",
        "for i in range(10 , -1,-1):\n",
        "   print(i)\n"
      ],
      "metadata": {
        "id": "tvpqCfXreI73",
        "outputId": "a1396af9-fed2-4ca0-c6f9-648798d039a5",
        "colab": {
          "base_uri": "https://localhost:8080/"
        }
      },
      "execution_count": 13,
      "outputs": [
        {
          "output_type": "stream",
          "name": "stdout",
          "text": [
            "10\n",
            "9\n",
            "8\n",
            "7\n",
            "6\n",
            "5\n",
            "4\n",
            "3\n",
            "2\n",
            "1\n",
            "0\n"
          ]
        }
      ]
    },
    {
      "cell_type": "code",
      "source": [],
      "metadata": {
        "id": "J0Wgj6VRr6cl"
      },
      "execution_count": null,
      "outputs": []
    }
  ]
}